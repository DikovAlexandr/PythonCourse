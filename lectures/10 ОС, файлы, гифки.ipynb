{
 "cells": [
  {
   "cell_type": "markdown",
   "id": "1636157e",
   "metadata": {},
   "source": [
    "# Взаимодействие с операционной системой. \n",
    "Модуль os обеспечивает портативный способ использования функциональных возможностей, зависящих от операционной системы.\n",
    "\n",
    "+ если нужно просто прочитать или записать файл, то лучше воспользоваться встроенной функцией open(),\n",
    "+ для различных манипуляций с путями, то удобнее будет использовать модуль os.path или pathlib(будут рассмотрены ниже),\n",
    "+ если необходимо прочитать все строки в файлах, указанных в командной строке, посмотрите на модуль [fileinput](https://docs-python.ru/standart-library/modul-fileinput-python/),\n",
    "+ для создания временных файлов и каталогов смотрите [модуль tempfile](https://docs-python.ru/standart-library/modul-tempfile-python/),\n",
    "+ для операций с файлами и каталогами (копирование, перемещение, создание, удаление) используйте [модуль shutil](https://docs-python.ru/standart-library/modul-shutil-python/).|"
   ]
  },
  {
   "cell_type": "markdown",
   "id": "4c0ea695",
   "metadata": {},
   "source": [
    "## Имена файлов, аргументы командной строки."
   ]
  },
  {
   "cell_type": "markdown",
   "id": "16efba8c",
   "metadata": {},
   "source": [
    "В Python имена файлов, аргументы командной строки и переменные окружения представлены с использованием строкового типа. В некоторых системах, перед передачей их операционной системе необходимо декодирование строк в байты и обратно. Python использует кодировку файловой системы для выполнения этого преобразования.\n",
    "\n",
    "Следующие функции модуля sys предоставляют информацию об используемой кодировке в интерпретатора Python из кода:"
   ]
  },
  {
   "cell_type": "code",
   "execution_count": null,
   "id": "07bf7887",
   "metadata": {},
   "outputs": [],
   "source": [
    "import sys\n",
    "\n",
    "print(sys.getdefaultencoding())  #возвращает имя текущей кодировки по умолчанию, используемой реализацией Unicode\n",
    "\n",
    "print(sys.getfilesystemencoding())  #возвращает имя кодировки, используемой для преобразования между именами файлов Unicode и именами байтов\n",
    "\n",
    "print(sys.getfilesystemencodeerrors())  #возвращает имя режима ошибки, используемого для преобразования между именами файлов Unicode и именами байтов"
   ]
  },
  {
   "cell_type": "markdown",
   "id": "4a280958",
   "metadata": {},
   "source": [
    "В некоторых системах преобразование с использованием кодировки файловой системы может завершиться <b>ошибкой</b>. В этом случае Python использует обработчик ошибок кодирования <b>surrogateescape</b>. Это означает, что некодируемые байты заменяются символом Unicode <b>U + DCxx</b> при декодировании, и они снова преобразуются в исходный байт при кодировании.\n",
    "\n",
    "<i>Для лучшей совместимости следует использовать строки str для имен файлов во всех случаях, хотя также поддерживается представление имен файлов в виде байтов. Функции, принимающие или возвращающие имена файлов, должны поддерживать либо строки str, либо байты bytes и внутренне преобразовываться в предпочтительное представление системы.</i>"
   ]
  },
  {
   "cell_type": "markdown",
   "id": "365b51d1",
   "metadata": {},
   "source": [
    "## Работа с директориями\n",
    "\n",
    "1) Текущий рабочий каталог:"
   ]
  },
  {
   "cell_type": "code",
   "execution_count": null,
   "id": "cb538570",
   "metadata": {},
   "outputs": [],
   "source": [
    "import os\n",
    "\n",
    "print('Текущая директория:', os.getcwd()) "
   ]
  },
  {
   "cell_type": "markdown",
   "id": "317eca7a",
   "metadata": {},
   "source": [
    "2) Создание папки/каталога в любой операционной системе с проверкой на ее существование:"
   ]
  },
  {
   "cell_type": "code",
   "execution_count": null,
   "id": "3c72a097",
   "metadata": {},
   "outputs": [],
   "source": [
    "if not os.path.isdir('folder'):  #вернет True, если переданное имя ссылается на существующий каталог\n",
    "     os.mkdir('folder')          #создание папки/каталога\n",
    "        \n",
    "        \n",
    "#Можно создать несколько вложенных папок\n",
    "\n",
    "if not os.path.isdir('First_folder/Second_folder/Third_folder'):\n",
    "     os.makedirs('First_folder/Second_folder/Third_folder')  "
   ]
  },
  {
   "cell_type": "markdown",
   "id": "098d1159",
   "metadata": {},
   "source": [
    "<i>Если папка уже существует, но вы пытаетесь создать ее снова, то будет вызвана ошика <b>FileExistsError</b>.</i>\n",
    "\n",
    "Проверка существования файла или папки и определение, является ли имя файлом или папкой:"
   ]
  },
  {
   "cell_type": "code",
   "execution_count": null,
   "id": "a930809b",
   "metadata": {},
   "outputs": [],
   "source": [
    "name = 'folder'\n",
    "print(os.path.exists(name))            #проверяет, существует ли указанный файл (или директория) name\n",
    "print(os.path.isdir(name))             #проверяет, является ли имя name папкой\n",
    "print(os.path.isfile(name))            #проверяет, является ли имя name файлом"
   ]
  },
  {
   "cell_type": "code",
   "execution_count": null,
   "id": "9375c8f4",
   "metadata": {},
   "outputs": [],
   "source": [
    "os.mkdir('folder')"
   ]
  },
  {
   "cell_type": "markdown",
   "id": "2d0b59ce",
   "metadata": {},
   "source": [
    "3) Изменение директории:"
   ]
  },
  {
   "cell_type": "code",
   "execution_count": null,
   "id": "d4128de2",
   "metadata": {},
   "outputs": [],
   "source": [
    "os.chdir('folder')  #сменили директорию на созданную выше папку\n",
    "print('Текущая директория:', os.getcwd())\n",
    "os.chdir('..')  #вернулись в предыдущую директорию\n",
    "print('Текущая директория:', os.getcwd())"
   ]
  },
  {
   "cell_type": "markdown",
   "id": "93f019fb",
   "metadata": {},
   "source": [
    "4) Удаление директории:"
   ]
  },
  {
   "cell_type": "code",
   "execution_count": null,
   "id": "2ce756fb",
   "metadata": {},
   "outputs": [],
   "source": [
    "os.removedirs('First_folder/Second_folder/Third_folder') #удаления каталогов рекурсивно\n",
    "os.rmdir(\"folder\") #удаление папки"
   ]
  },
  {
   "cell_type": "markdown",
   "id": "99e9ddb1",
   "metadata": {},
   "source": [
    "Функция <i>removedirs</i> удалит каталоги по очереди, если они пусты:\n",
    "\n",
    "1) <b>'First_folder/Second_folder/Third_folder'</b>\n",
    "\n",
    "2) <b>'First_folder/Second_folder'</b>\n",
    "\n",
    "3) <b>'First_folder'</b>\n",
    "\n",
    "Вызывает исключение <b>OSError</b>, если конечный каталог не может быть успешно удален."
   ]
  },
  {
   "cell_type": "markdown",
   "id": "26044b12",
   "metadata": {},
   "source": [
    "## Работа с файлами"
   ]
  },
  {
   "cell_type": "markdown",
   "id": "71d965b4",
   "metadata": {},
   "source": [
    "Не будем останавливаться на открытии файлов, записи и тд. Это было в предыдущих лекциях. Рассмотрим другие функции.\n",
    "\n",
    "1) Для получения информации о файле в ОС используется функция os.stat(), которая выполняет системный вызов stat() по выбранному пути:"
   ]
  },
  {
   "cell_type": "code",
   "execution_count": null,
   "id": "001b6f0a",
   "metadata": {},
   "outputs": [],
   "source": [
    "with open(\"text.txt\", \"w\") as file:\n",
    "    file.write('hello')\n",
    "print(os.stat(\"text.txt\"))\n",
    "\n",
    "with open(\"text.py\", \"w\") as file:\n",
    "    text = 'with open(\"Hello.txt\",\"w\") as file:\\n\\tfile.write(\"hello!\")'\n",
    "    file.write(text)\n",
    "print(os.stat(\"text.py\"))"
   ]
  },
  {
   "cell_type": "markdown",
   "id": "fd8522cd",
   "metadata": {},
   "source": [
    "2) Перечисление файлов и папок в указанной директории dir. Если вызвать эту функцию без аргументов, она вернет файлы и папки текущей рабочей директории."
   ]
  },
  {
   "cell_type": "code",
   "execution_count": null,
   "id": "ea9b4bff",
   "metadata": {},
   "outputs": [],
   "source": [
    "os.listdir()"
   ]
  },
  {
   "cell_type": "markdown",
   "id": "880ce2b4",
   "metadata": {},
   "source": [
    "3) Переименование:\n",
    "+ src - str, исходное имя файла или каталога\n",
    "+ dst - str, новое имя файла или каталога"
   ]
  },
  {
   "cell_type": "code",
   "execution_count": null,
   "id": "957479d4",
   "metadata": {},
   "outputs": [],
   "source": [
    "src = 'text.txt'\n",
    "dst = 'new_name.txt'\n",
    "os.rename(src, dst)"
   ]
  },
  {
   "cell_type": "markdown",
   "id": "7b4b5a71",
   "metadata": {},
   "source": [
    "4) Удаление файлов:"
   ]
  },
  {
   "cell_type": "code",
   "execution_count": null,
   "id": "8a6aef1f",
   "metadata": {},
   "outputs": [],
   "source": [
    "os.remove('new_name.txt')  #удаляет путь к файлу."
   ]
  },
  {
   "cell_type": "markdown",
   "id": "32179f79",
   "metadata": {},
   "source": [
    "5) Работа с архивами:"
   ]
  },
  {
   "cell_type": "code",
   "execution_count": null,
   "id": "86d9645f",
   "metadata": {},
   "outputs": [],
   "source": [
    "import zipfile\n",
    "from zipfile import ZipFile \n",
    "\n",
    "#получение и чтение всех файлов из архива\n",
    "zip_file = ZipFile('exc.zip')\n",
    "print([text_file.filename for text_file in zip_file.infolist()])\n",
    "\n",
    "#если надо извлечь все файлы\n",
    "with zipfile.ZipFile('exc.zip', 'r') as zip_file:\n",
    "    zip_file.extractall()\n",
    "    \n",
    "#если надо извлечь один файл\n",
    "with zipfile.ZipFile('exc.zip', 'r') as zip_file:\n",
    "    zip_file.extract('exc.txt')"
   ]
  },
  {
   "cell_type": "markdown",
   "id": "37b57a33",
   "metadata": {},
   "source": [
    "## Компиляция Python\n",
    "\n",
    "Компиляция – это сборка программы, включающая: трансляцию всех модулей программы, написанных на языке программирования высокого уровня, в эквивалентные программные модули на низкоуровневом языке, близком  к машинному коду, или на машинном языке и сборку исполняемой программы. Существует два вида компиляции:"
   ]
  },
  {
   "cell_type": "markdown",
   "id": "dd47fef2",
   "metadata": {},
   "source": [
    "+ <b>AOT-компиляция (ahead-of-time)</b> – компиляция перед исполнением программы. Т.е. программа компилируется один раз, в результате компиляции получается исполняемый файл.\n",
    "\n",
    "+ <b>JIT-компиляция (just-in-time)</b> – компиляция во время исполнения программы. Т.е. программа (а точнее, блоки программы) компилируется много раз - при каждом запуске. "
   ]
  },
  {
   "cell_type": "markdown",
   "id": "5bef7236",
   "metadata": {},
   "source": [
    "### AOT-компиляция Python\n",
    "### PyInstaller\n",
    "\n",
    "PyInstaller упаковывает приложения Python в автономные исполняемые файлы в Windows, GNU / Linux, Mac OS X, FreeBSD, Solaris и AIX. \n",
    "\n",
    "Устанавливается через pip:"
   ]
  },
  {
   "cell_type": "code",
   "execution_count": null,
   "id": "3d0f3430",
   "metadata": {},
   "outputs": [],
   "source": [
    "!python.exe -m pip install --upgrade pip\n",
    "!pip install pyinstaller"
   ]
  },
  {
   "cell_type": "code",
   "execution_count": null,
   "id": "86285432",
   "metadata": {},
   "outputs": [],
   "source": [
    "!pyinstaller --onefile text.py "
   ]
  },
  {
   "cell_type": "markdown",
   "id": "0e330f06",
   "metadata": {},
   "source": [
    "В результате будет создано:\n",
    "\n",
    "+ <b>*.spec</b> – файл спецификации (используется для ускорения будущих сборок приложения, связи файлов данных с приложением, для включения .dll и .so файлов, добавление в исполняемый файл параметров runtime-а Python);\n",
    "\n",
    "+ <b>build/</b> – директория с метаданными для сборки исполняемого файла;\n",
    "\n",
    "+ <b>dist/</b> – директория, содержащая все зависимости и исполняемый файл."
   ]
  },
  {
   "cell_type": "markdown",
   "id": "91d554e2",
   "metadata": {},
   "source": [
    "Сборку приложения можно настроить с помощью параметров командной строки:\n",
    "\n",
    "+ <b>--name</b> – изменение имени исполняемого файла (по умолчанию, такое же, как у сценария);\n",
    "\n",
    "+ <b>--onefile</b> – создание только исполняемого файла (по умолчанию, папка с зависимостями и исполняемый файл);\n",
    "\n",
    "+ <b>--hidden-import</b> – перечисление импортов, которые PyInstaller не смог обнаружить автоматически;\n",
    "\n",
    "+ <b>--add-data</b> – добавление в сборку файлов данных;\n",
    "\n",
    "+ <b>--add-binary</b> – добавление в сборку бинарных файлов;\n",
    "\n",
    "+ <b>--exclude-module</b> – исключение модулей из исполняемого файла;\n",
    "\n",
    "+ <b>--key</b> – ключ шифрования AES256. Да, приложение не будет содержать исходного кода, но его можно декомпилировать, например, так: Pyinstaller Extractor (.exe → .pyc) и uncompile6 (.pyc → .py).  Для скрытия исходного кода можно обфусцировать байт-код Python с помощью шифрования.\n",
    "\n",
    "<i>PyInstaller знает о многих Python-пакетах и умеет их учитывать при сборке исполняемого файла. Но не о всех. Например, фреймворк uvicorn практически весь нужно явно импортировать в файл, к которому будет применена команда pyinstaller. Полный список поддерживаемых из коробки пакетов можно посмотреть [здесь](https://github.com/pyinstaller/pyinstaller/wiki/Supported-Packages).</i>\n",
    "\n",
    "Запустим наш файл:"
   ]
  },
  {
   "cell_type": "code",
   "execution_count": null,
   "id": "ff7178b9",
   "metadata": {},
   "outputs": [],
   "source": [
    "os.chdir('dist')\n",
    "print(os.system('text.exe')) #исполняет системную команду, возвращает код её завершения (в случае успеха 0)\n",
    "os.chdir('..')"
   ]
  },
  {
   "cell_type": "markdown",
   "id": "0b5a8a8a",
   "metadata": {},
   "source": [
    "# Библиотека Pillow"
   ]
  },
  {
   "cell_type": "markdown",
   "id": "e67d1eb7",
   "metadata": {},
   "source": [
    "Библиотека Python Pillow является ответвлением более старой библиотеки под названием PIL. PIL расшифровывается как Python Imaging Library, и она позволяла Python работать с изображениями. PIL приостановила работу в 2011 году и поддерживается только Python 2. Если использовать описание разработчиков, то Pillow — это удобный \"переходник\" PIL, который поддерживает жизнь библиотеки и включает поддержку Python 3.\n",
    "\n",
    "В Python есть много модулей для работы с изображениями и их обработки. Если вы хотите работать с изображениями напрямую, оперируя их пикселями, вы можете использовать NumPy и SciPy. Другими популярными библиотеками для обработки изображений являются OpenCV, scikit-image и Mahotas. Некоторые из этих библиотек быстрее и мощнее, чем Pillow.\n",
    "\n",
    "Однако Pillow остается важным инструментом для работы с изображениями. Она предоставляет функции обработки, аналогичные тем, которые можно найти в программном обеспечении Photoshop. Pillow часто является предпочтительным вариантом для задач обработки изображений высокого уровня, которые не требуют более продвинутых навыков обработки.\n",
    "\n",
    "Pillow также часто используется для исследовательской работы при работе с изображениями. Тут есть то преимущество, что она широко используется сообществом Python, и её не так тяжело изучить, как некоторые другие библиотеки обработки изображений.\n",
    "\n",
    "Обратите внимание на то, что PIL и Pillow не могут быть установлены одновременно. В [документации](https://pillow.readthedocs.io/en/stable/installation.html#warnings) есть определенные предупреждения, где перечисляются различия между PIL и Pillow."
   ]
  },
  {
   "cell_type": "code",
   "execution_count": null,
   "id": "91b2a73c",
   "metadata": {},
   "outputs": [],
   "source": [
    "!pip install Pillow"
   ]
  },
  {
   "cell_type": "markdown",
   "id": "70aca5c6",
   "metadata": {},
   "source": [
    "## Модуль Image и класс Image в Pillow\n",
    "Основным классом, определенным в <b>Pillow</b>, является класс <b>Image</b>. Когда вы читаете изображение с помощью <b>Pillow</b>, оно сохраняется как объект типа <b>Image</b>.\n"
   ]
  },
  {
   "cell_type": "code",
   "execution_count": null,
   "id": "7d3a4ca1",
   "metadata": {},
   "outputs": [],
   "source": [
    "from PIL import Image\n",
    "import Hihi as h\n",
    "\n",
    "filename = 'hihi.kpi'\n",
    "with Image.open(filename) as img:\n",
    "    img.load() #чтение в память, теперь файл можно закрыть\n",
    "h.hihi(img)    #сами посмотрите что это)00)\n",
    "img.show()     #отображение изображения"
   ]
  },
  {
   "cell_type": "markdown",
   "id": "4c7daae0",
   "metadata": {},
   "source": [
    "<i>Вы можете ожидать импорта из <b>Pillow</b>, а не из <b>PIL</b>. В конце концов, вы установили <b>Pillo</b>v, а не <b>PIL</b>. Однако <b>Pillow</b> — это ответвление библиотеки <b>PIL</b>. Поэтому вам все равно придется использовать <b>PIL</b> при импорте в ваш код.</i>\n",
    "\n",
    "Метод <b>.show()</b> сохраняет изображение как временный файл и отображает его, используя собственное программное обеспечение вашей операционной системы для работы с изображениями."
   ]
  },
  {
   "cell_type": "markdown",
   "id": "4367033b",
   "metadata": {},
   "source": [
    "Как работать с Pillow для обработки изображений нас сейчас не интересует. Мы рассмотрим создание анимации. Допустим вам нужно проследить за неким процессом. Вы вывели данные в соотвествующие моменты времени, построили картинки с помощью matplotlib. Как создать gif?\n",
    "\n",
    "В папке pic лежат картинки для соответствующих моментов времени. Я записываю момент времени в названии файла, вы можете делать это как хотите. Например записывать просто номер вывода \"pic_1_.png\", а время писать в отдельный файл.\n",
    "\n",
    "1) Читаю названия файлов в директории и записываю их в словарь. Ключ - время, значение - имя файла. Сортирую словарь по ключу."
   ]
  },
  {
   "cell_type": "code",
   "execution_count": null,
   "id": "f80f8dca",
   "metadata": {},
   "outputs": [],
   "source": [
    "import numpy as np\n",
    "import math as m\n",
    "\n",
    "data_path = './pic/'\n",
    "time_mass = {}\n",
    "for adres in os.listdir(data_path):\n",
    "    if f'pic' not in adres:\n",
    "        continue\n",
    "    time_mass[float(adres.split('_')[1])] = adres\n",
    "sorted_tuple = sorted(time_mass.items(), key=lambda x: x[0])\n",
    "time_mass = dict(sorted_tuple)"
   ]
  },
  {
   "cell_type": "markdown",
   "id": "a482cea5",
   "metadata": {},
   "source": [
    "2) Для создания анимации нужно определиться с временем отображения каждого кадра. Получим dt между картинками."
   ]
  },
  {
   "cell_type": "code",
   "execution_count": null,
   "id": "0a129865",
   "metadata": {},
   "outputs": [],
   "source": [
    "duration_l = list(time_mass.keys())\n",
    "duration_l = (np.array(duration_l[1:]) - np.array(duration_l[:-1]))\n",
    "duration_l = np.append(duration_l, duration_l[len(duration_l) - 1])\n",
    "\n",
    "# преобразуем dt, так чтобы суммарное время gif было 15 секунд\n",
    "ctime = 15 \n",
    "tscale = None #это просто флаг для данного действия\n",
    "if tscale == None:\n",
    "    tscale = ctime * 1E3 / duration_l.sum()\n",
    "    duration_l = duration_l * tscale\n",
    "    \n",
    "#иногда функция создания gif ругается на тип продолжительности отображения     \n",
    "duration_list = []\n",
    "for i in duration_l:\n",
    "    i = m.floor(i)\n",
    "    duration_list.append(i)"
   ]
  },
  {
   "cell_type": "markdown",
   "id": "906ab8ef",
   "metadata": {},
   "source": [
    "3) Читаем картинки и записываем их в список."
   ]
  },
  {
   "cell_type": "code",
   "execution_count": null,
   "id": "478fb9e4",
   "metadata": {},
   "outputs": [],
   "source": [
    "frames = []\n",
    "for time in list(time_mass.keys()):\n",
    "    with Image.open(data_path + time_mass[time]) as frame:\n",
    "        frame.load()\n",
    "    frames.append(frame)"
   ]
  },
  {
   "cell_type": "markdown",
   "id": "5ed88656",
   "metadata": {},
   "source": [
    "4)Создаем gif. Первый аргумент в <b>.save()</b> — это имя файла, который вы хотите сохранить. Расширение в имени файла сообщает <b>.save()</b>, какой формат файла необходимо вывести. Вы также включаете два аргумента ключевого слова в <b>.save()</b>:\n",
    "\n",
    "+ <b>save_all=True</b> гарантирует, что будут сохранены все изображения в последовательности, а не только первое.\n",
    "\n",
    "+ <b>append_images=square_animation[1:]</b> позволяет добавить оставшиеся изображения в последовательности в файл GIF.\n",
    "\n",
    "Этот код сохраняет анимацию.gif в файл, после чего вы можете открыть файл GIF с помощью любого программного обеспечения для работы с изображениями. GIF должен зацикливаться по умолчанию, но в некоторых системах вам нужно будет добавить ключевой аргумент <b>loop=0</b> в <b>.save()</b>, чтобы обеспечить зацикливание GIF."
   ]
  },
  {
   "cell_type": "code",
   "execution_count": null,
   "id": "0d26ba1e",
   "metadata": {},
   "outputs": [],
   "source": [
    "frames[0].save(\n",
    "    f'./anime.gif',\n",
    "    save_all=True,\n",
    "    append_images=frames[1:],\n",
    "    optimize=True,\n",
    "    duration=duration_list,\n",
    "    loop=1\n",
    "    )"
   ]
  }
 ],
 "metadata": {
  "kernelspec": {
   "display_name": "Python 3 (ipykernel)",
   "language": "python",
   "name": "python3"
  },
  "language_info": {
   "codemirror_mode": {
    "name": "ipython",
    "version": 3
   },
   "file_extension": ".py",
   "mimetype": "text/x-python",
   "name": "python",
   "nbconvert_exporter": "python",
   "pygments_lexer": "ipython3",
   "version": "3.9.12"
  }
 },
 "nbformat": 4,
 "nbformat_minor": 5
}
