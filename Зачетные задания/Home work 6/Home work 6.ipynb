{
 "cells": [
  {
   "cell_type": "markdown",
   "id": "e1a2d181",
   "metadata": {
    "id": "e1a2d181"
   },
   "source": [
    "## Задача 1. Война и мир\n",
    "Мало кто не знает про знаменитый роман Л. Н. Толстого «Война и мир». Это довольно объёмное произведение лежит в архиве voina-i-mir.zip. Напишите программу, которая подсчитает статистику по буквам (не только русского алфавита) в этом романе и выведет результат на экран (или в файл).\n",
    "\n",
    "Результат должен быть отсортирован по частоте встречаемости букв (по возрастанию или убыванию). \n",
    "\n",
    "Регистр символов имеет значение. \n",
    "\n",
    "<b>Требуется написать программу так, чтобы для её работы не требовалась распаковка архива «вручную».</b>\n"
   ]
  },
  {
   "cell_type": "code",
   "execution_count": null,
   "outputs": [],
   "source": [
    "import zipfile\n",
    "from zipfile import ZipFile"
   ],
   "metadata": {
    "id": "ZrvGF0dFmXdH"
   },
   "id": "ZrvGF0dFmXdH"
  },
  {
   "cell_type": "code",
   "execution_count": null,
   "outputs": [],
   "source": [
    "# Создаем словарь для подсчета статистики по буквам\n",
    "alphabet = []\n",
    "letters_count = {letter: 0 for letter in alphabet}"
   ],
   "metadata": {
    "id": "Mo9gkqcXmXdI"
   },
   "id": "Mo9gkqcXmXdI"
  },
  {
   "cell_type": "code",
   "execution_count": null,
   "outputs": [],
   "source": [
    "# Открываем архив и получаем файл\n",
    "zip_file = ZipFile('voyna-i-mir.zip')\n",
    "my_file = zip_file.open('voyna-i-mir.txt')"
   ],
   "metadata": {
    "id": "s9u_O3RXmXdI"
   },
   "id": "s9u_O3RXmXdI"
  },
  {
   "cell_type": "code",
   "execution_count": null,
   "outputs": [],
   "source": [
    "# Читаем файл построчно\n",
    "for line in my_file:\n",
    "    line = line.decode('utf-8')\n",
    "    # Подсчитываем статистику по буквам\n",
    "    for letter in line:\n",
    "        if letter in alphabet:\n",
    "            letters_count[letter] += 1\n",
    "        else:\n",
    "            alphabet.append(letter)\n",
    "            letters_count.update({letter: 1})\n",
    "\n",
    "# Сортируем словарь по частоте встречаемости букв\n",
    "sorted_letters_count = sorted(letters_count.items(), key=lambda x: x[1], reverse=True)\n",
    "\n",
    "# Выводим результаты на экран\n",
    "for letter, count in sorted_letters_count:\n",
    "    print(f\"{letter}: {count}\")\n",
    "\n",
    "# Выводим результаты в файл\n",
    "with open('results.txt', 'w', encoding='utf-8') as f:\n",
    "    for letter, count in sorted_letters_count:\n",
    "        f.write(f\"{letter}: {count}\\n\")"
   ],
   "metadata": {
    "id": "SAFt-n-smXdI"
   },
   "id": "SAFt-n-smXdI"
  },
  {
   "cell_type": "markdown",
   "id": "f9ab83b8",
   "metadata": {
    "id": "f9ab83b8"
   },
   "source": [
    "## Задача 2. Теплопроводность\n"
   ]
  },
  {
   "cell_type": "code",
   "execution_count": 167,
   "outputs": [],
   "source": [
    "import matplotlib.pyplot as plt\n",
    "from PIL import Image\n",
    "import numpy as np\n",
    "import pandas as pd\n",
    "import csv\n",
    "import os"
   ],
   "metadata": {
    "id": "trump3KKmXdJ"
   },
   "id": "trump3KKmXdJ"
  },
  {
   "cell_type": "code",
   "execution_count": 168,
   "outputs": [],
   "source": [
    "if not os.path.isdir('maps'):\n",
    "    os.mkdir('maps')\n",
    "\n",
    "if not os.path.isdir('data'):\n",
    "    os.mkdir('data')"
   ],
   "metadata": {
    "id": "Rk7QHeAUmXdM"
   },
   "id": "Rk7QHeAUmXdM"
  },
  {
   "cell_type": "code",
   "execution_count": 169,
   "outputs": [],
   "source": [
    "def out_data(U, X, Y, current_time):\n",
    "    data = pd.DataFrame(data = U,\n",
    "                      index = X,\n",
    "                      columns = Y)\n",
    "    data.to_csv(f'data/data_{current_time:.6f}.csv', sep = ';')"
   ],
   "metadata": {
    "collapsed": false
   }
  },
  {
   "cell_type": "code",
   "execution_count": 189,
   "outputs": [],
   "source": [
    "# Параметры расчета\n",
    "N_X = 100\n",
    "N_Y = 100\n",
    "T_ = 0.01\n",
    "L_X = 1\n",
    "L_Y = 1\n",
    "H_X = L_X / (N_X - 1)\n",
    "H_Y = L_Y / (N_Y - 1)\n",
    "A = 1\n",
    "TAU = 1 / (2 * pow(A, 2) * (pow(H_X, -2) + pow(H_Y, -2)))\n",
    "# TAU = H_X / (4 * pow(A, 2))\n",
    "X = np.arange(0, L_X + H_X, H_X)\n",
    "Y = np.arange(0, L_Y + H_Y, H_Y)\n",
    "T = np.arange(0, T_ + TAU, TAU)\n",
    "U = np.zeros((len(X), len(Y)))\n",
    "# Желаемое число кадров в gif\n",
    "FRAMES = 15\n",
    "DIVIDER = int(len(T) / FRAMES)"
   ],
   "metadata": {
    "id": "KBMzA4enmXdJ"
   },
   "id": "KBMzA4enmXdJ"
  },
  {
   "cell_type": "code",
   "execution_count": 190,
   "outputs": [],
   "source": [
    "def u_0(x, y):\n",
    "    pass\n",
    "    return 1"
   ],
   "metadata": {
    "id": "s61MRR7AmXdK"
   },
   "id": "s61MRR7AmXdK"
  },
  {
   "cell_type": "code",
   "execution_count": 191,
   "outputs": [],
   "source": [
    "def psi_1(y, t):\n",
    "    pass\n",
    "    return 0"
   ],
   "metadata": {
    "id": "a_zFXrZwmXdK"
   },
   "id": "a_zFXrZwmXdK"
  },
  {
   "cell_type": "code",
   "execution_count": 192,
   "outputs": [],
   "source": [
    "def psi_2(y, t):\n",
    "    pass\n",
    "    return 0"
   ],
   "metadata": {
    "id": "Qxli2-DcmXdK"
   },
   "id": "Qxli2-DcmXdK"
  },
  {
   "cell_type": "code",
   "execution_count": 193,
   "outputs": [],
   "source": [
    "def psi_3(x, t):\n",
    "    pass\n",
    "    return 0"
   ],
   "metadata": {
    "id": "qZkl8hMkmXdK"
   },
   "id": "qZkl8hMkmXdK"
  },
  {
   "cell_type": "code",
   "execution_count": 194,
   "outputs": [],
   "source": [
    "def psi_4(x, t):\n",
    "    pass\n",
    "    return 0"
   ],
   "metadata": {
    "id": "q69Onu0ZmXdK"
   },
   "id": "q69Onu0ZmXdK"
  },
  {
   "cell_type": "code",
   "execution_count": 195,
   "outputs": [],
   "source": [
    "# Заполняем начальные условия\n",
    "for i, x in enumerate(X):\n",
    "    for j, y in enumerate(Y):\n",
    "        U[i][j] = u_0(x, y)"
   ],
   "metadata": {
    "id": "msp7E5NcmXdL"
   },
   "id": "msp7E5NcmXdL"
  },
  {
   "cell_type": "code",
   "execution_count": 196,
   "id": "ce3f2924",
   "metadata": {
    "id": "ce3f2924",
    "colab": {
     "base_uri": "https://localhost:8080/",
     "height": 780
    },
    "outputId": "1ad7f548-b457-47ac-f3cf-78cf611b0f93"
   },
   "outputs": [
    {
     "data": {
      "text/plain": "<Figure size 504x504 with 1 Axes>",
      "image/png": "[encoded data removed]"
     },
     "metadata": {},
     "output_type": "display_data"
    }
   ],
   "source": [
    "# Открываем CSV-файл для записи\n",
    "plt.figure(figsize=(7,7))\n",
    "# with open('U.csv', mode='w') as file:\n",
    "#     writer = csv.writer(file, delimiter=',')\n",
    "\n",
    "for n, t in enumerate(T):\n",
    "    # Сохраняем значения на предыдущем шаге\n",
    "    U_previous = U\n",
    "    #  Заполняем граничные условия\n",
    "    for i, y in enumerate(Y):\n",
    "        U[0][i] = psi_1(y, t)\n",
    "        U[len(X) - 1][i] = psi_2(y, t)\n",
    "    for i, x in enumerate(X):\n",
    "        U[i][0] = psi_3(x, t)\n",
    "        U[i][len(Y) - 1] = psi_4(x, t)\n",
    "\n",
    "    #  Делаем шаг схемой\n",
    "    if 0 < n < len(T) - 1:\n",
    "        for i in range(1, len(X) - 1):\n",
    "            for j in range(1, len(Y) - 1):\n",
    "                U[i][j] = U_previous[i][j] + TAU * pow(A, 2) * (\n",
    "                        (U_previous[i + 1][j] - 2 * U_previous[i][j] + U_previous[i - 1][j]) / pow(H_Y, 2) + (\n",
    "                        U_previous[i][j + 1] - 2 * U_previous[i][j] + U_previous[i][j - 1]) / pow(H_Y, 2))\n",
    "\n",
    "    out_data(U, X, Y, t)\n",
    "    # writer.writerows(U)\n",
    "    if n % DIVIDER == 0:\n",
    "        im = plt.contourf(X, Y, U, 20, cmap=plt.cm.jet)\n",
    "        plt.title(f'time {n}')\n",
    "        # Сохраняем карту в файл\n",
    "        plt.savefig(f'maps/time-{n}_tau-{TAU:.6f}.png')\n",
    "    # Файл закрыт автоматически"
   ]
  },
  {
   "cell_type": "code",
   "execution_count": 201,
   "outputs": [
    {
     "name": "stdout",
     "output_type": "stream",
     "text": [
      "[2.6e-05, 2.6e-05, 2.6e-05, 2.6e-05, 2.6e-05, 2.6e-05, 2.6e-05, 2.6e-05, 2.6e-05, 2.6e-05, 2.6e-05, 2.6e-05, 2.6e-05, 2.6e-05, 2.6e-05, 2.6e-05]\n"
     ]
    }
   ],
   "source": [
    "# Получаем список файлов в папке\n",
    "file_list = os.listdir('maps/')\n",
    "image_files = [file for file in file_list]\n",
    "image_files.sort()\n",
    "\n",
    "tau_values = []\n",
    "images = []\n",
    "for filename in image_files:\n",
    "    tau = filename.split('tau-')[1].split('.png')[0]\n",
    "    tau_values.append(float(tau))\n",
    "\n",
    "    im = Image.open(f'maps/{filename}')\n",
    "    images.append(im)\n",
    "\n",
    "# Сохраняем gif-изображение\n",
    "images[0].save('maps.gif', save_all=True, append_images=images[1:], duration=500, loop=0)\n",
    "\n",
    "# Выводим список вторых чисел\n",
    "print(tau_values)"
   ],
   "metadata": {
    "collapsed": false
   }
  },
  {
   "cell_type": "markdown",
   "source": [
    "Написать функцию, возвращающую массив длительностей каждого кадра последовательности изображений\n",
    "Шаг считать переменным."
   ],
   "metadata": {
    "collapsed": false
   }
  },
  {
   "cell_type": "code",
   "execution_count": 204,
   "outputs": [],
   "source": [
    "def time_duration(tau_values, T):\n",
    "    # Переведем секунды в миллисекунды, поскольку duration измеряется в миллисекундах\n",
    "    T = T * 1000\n",
    "    # Найдем сколько условного времени займут сами шаги\n",
    "    tau_sum = sum(tau_values)\n",
    "    # Доля времени, для показа кадра единичной длительности\n",
    "    coefficient = T / tau_sum\n",
    "    # Посчитаем время отображения каждого кадра умножим долю на его условную длительности\n",
    "    times = np.array([])\n",
    "    for time in tau_values:\n",
    "        times = np.append(times, time * coefficient)\n",
    "    return times"
   ],
   "metadata": {
    "collapsed": false
   }
  },
  {
   "cell_type": "code",
   "execution_count": 205,
   "outputs": [
    {
     "name": "stdout",
     "output_type": "stream",
     "text": [
      "[625. 625. 625. 625. 625. 625. 625. 625. 625. 625. 625. 625. 625. 625.\n",
      " 625. 625.]\n"
     ]
    }
   ],
   "source": [
    "print(time_duration(tau_values, 10))"
   ],
   "metadata": {
    "collapsed": false
   }
  },
  {
   "cell_type": "code",
   "execution_count": null,
   "outputs": [],
   "source": [
    "!pyinstaller --onefile gif_maker.py"
   ],
   "metadata": {
    "collapsed": false
   }
  }
 ],
 "metadata": {
  "kernelspec": {
   "display_name": "Python 3 (ipykernel)",
   "language": "python",
   "name": "python3"
  },
  "language_info": {
   "codemirror_mode": {
    "name": "ipython",
    "version": 3
   },
   "file_extension": ".py",
   "mimetype": "text/x-python",
   "name": "python",
   "nbconvert_exporter": "python",
   "pygments_lexer": "ipython3",
   "version": "3.9.13"
  },
  "colab": {
   "provenance": []
  }
 },
 "nbformat": 4,
 "nbformat_minor": 5
}
